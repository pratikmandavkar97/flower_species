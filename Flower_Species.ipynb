{
  "nbformat": 4,
  "nbformat_minor": 0,
  "metadata": {
    "colab": {
      "provenance": [],
      "gpuType": "T4"
    },
    "kernelspec": {
      "name": "python3",
      "display_name": "Python 3"
    },
    "language_info": {
      "name": "python"
    },
    "accelerator": "GPU"
  },
  "cells": [
    {
      "cell_type": "code",
      "source": [
        "import numpy as np\n",
        "import matplotlib.pyplot as plt\n",
        "import tensorflow as tf\n",
        "from tensorflow.keras import layers, models, optimizers\n",
        "from tensorflow.keras.preprocessing.image import ImageDataGenerator"
      ],
      "metadata": {
        "id": "Sfuco92kpIoY"
      },
      "execution_count": null,
      "outputs": []
    },
    {
      "cell_type": "code",
      "source": [
        "dataset_path = '/content/drive/MyDrive/flower_data'"
      ],
      "metadata": {
        "id": "uEpWfdWepOyA"
      },
      "execution_count": null,
      "outputs": []
    },
    {
      "cell_type": "code",
      "source": [
        "batch_size = 32\n",
        "img_height, img_width = 224, 224\n",
        "num_classes = 2\n",
        "epochs = 10"
      ],
      "metadata": {
        "id": "B64vhVnXpO3u"
      },
      "execution_count": null,
      "outputs": []
    },
    {
      "cell_type": "code",
      "source": [
        "train_datagen = ImageDataGenerator(\n",
        "    rescale=1.0 / 255,\n",
        "    rotation_range=20,\n",
        "    width_shift_range=0.2,\n",
        "    height_shift_range=0.2,\n",
        "    horizontal_flip=True,\n",
        "    validation_split=0.2)"
      ],
      "metadata": {
        "id": "bH0-FJqupPBR"
      },
      "execution_count": null,
      "outputs": []
    },
    {
      "cell_type": "code",
      "source": [
        "train_generator = train_datagen.flow_from_directory(\n",
        "    dataset_path,\n",
        "    target_size=(img_height, img_width),\n",
        "    batch_size=batch_size,\n",
        "    class_mode='categorical',\n",
        "    subset='training'\n",
        ")\n"
      ],
      "metadata": {
        "colab": {
          "base_uri": "https://localhost:8080/"
        },
        "id": "05ZmkqN3pPF3",
        "outputId": "5a620c4d-f051-41e2-8424-206cdca6549e"
      },
      "execution_count": null,
      "outputs": [
        {
          "output_type": "stream",
          "name": "stdout",
          "text": [
            "Found 6560 images belonging to 1 classes.\n"
          ]
        }
      ]
    },
    {
      "cell_type": "code",
      "source": [
        "validation_generator = train_datagen.flow_from_directory(\n",
        "    dataset_path,\n",
        "    target_size=(img_height, img_width),\n",
        "    batch_size=batch_size,\n",
        "    class_mode='categorical',\n",
        "    subset='validation'\n",
        ")\n"
      ],
      "metadata": {
        "colab": {
          "base_uri": "https://localhost:8080/"
        },
        "id": "IE4zccnYpPJS",
        "outputId": "75e3b7d2-a144-4c01-bb33-d45b391644be"
      },
      "execution_count": null,
      "outputs": [
        {
          "output_type": "stream",
          "name": "stdout",
          "text": [
            "Found 1639 images belonging to 1 classes.\n"
          ]
        }
      ]
    },
    {
      "cell_type": "code",
      "source": [
        "model = models.Sequential([\n",
        "    layers.Conv2D(32, (3, 3), activation='relu', input_shape=(img_height, img_width, 3)),\n",
        "    layers.MaxPooling2D((2, 2)),\n",
        "    layers.Conv2D(64, (3, 3), activation='relu'),\n",
        "    layers.MaxPooling2D((2, 2)),\n",
        "    layers.Conv2D(128, (3, 3), activation='relu'),\n",
        "    layers.MaxPooling2D((2, 2)),\n",
        "    layers.Flatten(),\n",
        "    layers.Dense(512, activation='relu'),\n",
        "    layers.Dense(num_classes, activation='softmax')\n",
        "])"
      ],
      "metadata": {
        "id": "ej_gZ094pPMh"
      },
      "execution_count": null,
      "outputs": []
    },
    {
      "cell_type": "code",
      "source": [
        "model.compile(\n",
        "    optimizer=optimizers.Adam(learning_rate=0.001),\n",
        "    loss='categorical_crossentropy',\n",
        "    metrics=['accuracy'])"
      ],
      "metadata": {
        "id": "rMDGP-nKqXBU"
      },
      "execution_count": null,
      "outputs": []
    },
    {
      "cell_type": "code",
      "source": [
        "model.summary()"
      ],
      "metadata": {
        "colab": {
          "base_uri": "https://localhost:8080/"
        },
        "id": "HlKwyR6IqXSk",
        "outputId": "ecc98a20-702d-4fbf-f810-193700881efb"
      },
      "execution_count": null,
      "outputs": [
        {
          "output_type": "stream",
          "name": "stdout",
          "text": [
            "Model: \"sequential\"\n",
            "_________________________________________________________________\n",
            " Layer (type)                Output Shape              Param #   \n",
            "=================================================================\n",
            " conv2d (Conv2D)             (None, 222, 222, 32)      896       \n",
            "                                                                 \n",
            " max_pooling2d (MaxPooling2D  (None, 111, 111, 32)     0         \n",
            " )                                                               \n",
            "                                                                 \n",
            " conv2d_1 (Conv2D)           (None, 109, 109, 64)      18496     \n",
            "                                                                 \n",
            " max_pooling2d_1 (MaxPooling  (None, 54, 54, 64)       0         \n",
            " 2D)                                                             \n",
            "                                                                 \n",
            " conv2d_2 (Conv2D)           (None, 52, 52, 128)       73856     \n",
            "                                                                 \n",
            " max_pooling2d_2 (MaxPooling  (None, 26, 26, 128)      0         \n",
            " 2D)                                                             \n",
            "                                                                 \n",
            " flatten (Flatten)           (None, 86528)             0         \n",
            "                                                                 \n",
            " dense (Dense)               (None, 512)               44302848  \n",
            "                                                                 \n",
            " dense_1 (Dense)             (None, 2)                 1026      \n",
            "                                                                 \n",
            "=================================================================\n",
            "Total params: 44,397,122\n",
            "Trainable params: 44,397,122\n",
            "Non-trainable params: 0\n",
            "_________________________________________________________________\n"
          ]
        }
      ]
    },
    {
      "cell_type": "code",
      "source": [
        "history = model.fit(\n",
        "    train_generator,\n",
        "    steps_per_epoch=train_generator.samples // batch_size,\n",
        "    epochs=epochs,\n",
        "    validation_data=validation_generator,\n",
        "    validation_steps=validation_generator.samples // batch_size\n",
        ")\n",
        "\n"
      ],
      "metadata": {
        "colab": {
          "base_uri": "https://localhost:8080/"
        },
        "id": "QmBniDkpqXjm",
        "outputId": "ff742ffa-d8be-4657-a683-8a969e12a28f"
      },
      "execution_count": null,
      "outputs": [
        {
          "output_type": "stream",
          "name": "stdout",
          "text": [
            "Epoch 1/10\n",
            "205/205 [==============================] - 269s 1s/step - loss: 53615308.0000 - accuracy: 0.5110 - val_loss: 233870128.0000 - val_accuracy: 0.0000e+00\n",
            "Epoch 2/10\n",
            "205/205 [==============================] - 155s 756ms/step - loss: 4854237696.0000 - accuracy: 0.5043 - val_loss: 725768128.0000 - val_accuracy: 1.0000\n",
            "Epoch 3/10\n",
            "205/205 [==============================] - 162s 790ms/step - loss: 57412251648.0000 - accuracy: 0.4976 - val_loss: 29694756864.0000 - val_accuracy: 1.0000\n",
            "Epoch 4/10\n",
            "205/205 [==============================] - 152s 743ms/step - loss: 195551772672.0000 - accuracy: 0.5050 - val_loss: 428750569472.0000 - val_accuracy: 0.0000e+00\n",
            "Epoch 5/10\n",
            "205/205 [==============================] - 162s 789ms/step - loss: 454122405888.0000 - accuracy: 0.4998 - val_loss: 162431991808.0000 - val_accuracy: 1.0000\n",
            "Epoch 6/10\n",
            "205/205 [==============================] - 149s 727ms/step - loss: 1416798535680.0000 - accuracy: 0.4973 - val_loss: 3426218147840.0000 - val_accuracy: 0.0000e+00\n",
            "Epoch 7/10\n",
            "205/205 [==============================] - 163s 795ms/step - loss: 1252423237632.0000 - accuracy: 0.5026 - val_loss: 889270108160.0000 - val_accuracy: 1.0000\n",
            "Epoch 8/10\n",
            "205/205 [==============================] - 160s 784ms/step - loss: 2717236068352.0000 - accuracy: 0.4976 - val_loss: 4404068483072.0000 - val_accuracy: 0.0000e+00\n",
            "Epoch 9/10\n",
            "205/205 [==============================] - 149s 727ms/step - loss: 4885172453376.0000 - accuracy: 0.5024 - val_loss: 3009541832704.0000 - val_accuracy: 0.0000e+00\n",
            "Epoch 10/10\n",
            "205/205 [==============================] - 161s 787ms/step - loss: 5289739812864.0000 - accuracy: 0.4983 - val_loss: 35442692096.0000 - val_accuracy: 0.0594\n"
          ]
        }
      ]
    },
    {
      "cell_type": "code",
      "source": [
        "acc = history.history['accuracy']\n",
        "val_acc = history.history['val_accuracy']\n",
        "epochs_range = range(1, epochs + 1)"
      ],
      "metadata": {
        "id": "OtokZDInqXr5"
      },
      "execution_count": null,
      "outputs": []
    },
    {
      "cell_type": "code",
      "source": [
        "plt.figure(figsize=(10, 5))\n",
        "plt.plot(epochs_range, acc, label='Training Accuracy')\n",
        "plt.plot(epochs_range, val_acc, label='Validation Accuracy')\n",
        "plt.xlabel('Epochs')\n",
        "plt.ylabel('Accuracy')\n",
        "plt.legend()\n",
        "plt.show()\n"
      ],
      "metadata": {
        "id": "zitOZ02_rSBL",
        "colab": {
          "base_uri": "https://localhost:8080/"
        },
        "outputId": "515f4d8a-f3b6-4f52-bc61-7f69423ac5fd"
      },
      "execution_count": null,
      "outputs": [
        {
          "output_type": "display_data",
          "data": {
            "text/plain": [
              "<Figure size 1000x500 with 1 Axes>"
            ],
            "image/png": "[encoded data removed]"
          },
          "metadata": {}
        }
      ]
    },
    {
      "cell_type": "code",
      "source": [],
      "metadata": {
        "id": "chYwYvsmrSNx"
      },
      "execution_count": null,
      "outputs": []
    }
  ]
}